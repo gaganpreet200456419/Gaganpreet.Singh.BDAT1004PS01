{
 "cells": [
  {
   "cell_type": "markdown",
   "metadata": {},
   "source": [
    "# Question 1: \n",
    "What data type is each of the following? "
   ]
  },
  {
   "cell_type": "code",
   "execution_count": 268,
   "metadata": {},
   "outputs": [
    {
     "name": "stdout",
     "output_type": "stream",
     "text": [
      "The data type of 5 is <class 'int'>\n",
      "The data type of 5.0 is <class 'float'>\n",
      "The data type of True is <class 'bool'>\n",
      "The data type of 5 is <class 'str'>\n",
      "The data type of 10 is <class 'int'>\n",
      "The data type of 55 is <class 'str'>\n",
      "The data type of 52 is <class 'str'>\n",
      "The data type of 2.5 is <class 'float'>\n",
      "The data type of 2 is <class 'int'>\n",
      "The data type of [5, 2, 1] is <class 'list'>\n",
      "The data type of False is <class 'bool'>\n",
      "The data type of 3.141592653589793 is <class 'float'>\n"
     ]
    }
   ],
   "source": [
    "#To answer question 1, variable a, b, c...k are used to assign values and then data types are printed employing print function.\n",
    "\n",
    "a=5   #Value is assigned in a variable\n",
    "print('The data type of', a, 'is', type(a)) # It prints the data type appropriately in a following format: \n",
    "                                            #\"The data type of 5 is <class 'int'>\". Same conceptis applied on all other types.\n",
    "\n",
    "b=5.0\n",
    "print('The data type of', b, 'is', type(b))\n",
    "\n",
    "c=5>1\n",
    "print('The data type of', c, 'is', type(c))\n",
    "\n",
    "d='5'\n",
    "print('The data type of', d, 'is', type(d))\n",
    "\n",
    "e=5*2\n",
    "print('The data type of', e, 'is', type(e))\n",
    "\n",
    "f='5'*2\n",
    "print('The data type of', f, 'is', type(f))\n",
    "\n",
    "g='5'+'2'\n",
    "print('The data type of', g, 'is', type(f))\n",
    "\n",
    "h=5/2\n",
    "print('The data type of', h, 'is', type(h))\n",
    "\n",
    "i=5//2\n",
    "print('The data type of', i, 'is', type(i))\n",
    "\n",
    "j=[5,2,1]\n",
    "print('The data type of', j, 'is', type(j))\n",
    "\n",
    "k=5 in [1, 4, 6]\n",
    "print('The data type of', k, 'is', type(k))\n",
    "\n",
    "import math \n",
    "print('The data type of', math.pi, 'is', type(math.pi))"
   ]
  },
  {
   "cell_type": "markdown",
   "metadata": {},
   "source": [
    "# Question 2: \n",
    "Write (and evaluate) Python expressions that answer these questions: "
   ]
  },
  {
   "cell_type": "code",
   "execution_count": 273,
   "metadata": {},
   "outputs": [
    {
     "name": "stdout",
     "output_type": "stream",
     "text": [
      "The given word Supercalifragilisticexpialidocious has 34 number of letters\n"
     ]
    }
   ],
   "source": [
    "#Part a: How many letters are there in 'Supercalifragilisticexpialidocious'?\n",
    "\n",
    "word='Supercalifragilisticexpialidocious' # Word is assigned to variable named word.\n",
    "print('The given word',word,'has',len(word),'number of letters') # It prints the formatted solution."
   ]
  },
  {
   "cell_type": "code",
   "execution_count": 276,
   "metadata": {},
   "outputs": [
    {
     "name": "stdout",
     "output_type": "stream",
     "text": [
      "Yes, the given word Supercalifragilisticexpialidocious is composed of ice term\n"
     ]
    }
   ],
   "source": [
    "#Part b: Does 'Supercalifragilisticexpialidocious' contain 'ice' as a substring? \n",
    "\n",
    "word2='Supercalifragilisticexpialidocious' # Word is assigned to variable named word2.\n",
    "if 'ice' in word2:                      # if statement is used to verify and if the word contains 'ice' then the follwing print function displays the validation. \n",
    "    print('Yes, the given word',word2,'is composed of ice term')\n",
    "else:                                   # else the print function diplays that the word doesn't contains 'ice'.\n",
    "    print('No, the given word',word2,'is NOT composed of ice term')"
   ]
  },
  {
   "cell_type": "code",
   "execution_count": 290,
   "metadata": {},
   "outputs": [
    {
     "name": "stdout",
     "output_type": "stream",
     "text": [
      "Supercalifragilisticexpialidocious\n",
      "Honorificabilitudinitatibus\n",
      "Bababadalgharaghtakamminarronnkonn\n",
      "Supercalifragilisticexpialidocious is the longest word\n"
     ]
    }
   ],
   "source": [
    "#Part c: Which of the following words is the longest: Supercalifragilisticexpialidocious, Honorificabilitudinitatibus, \n",
    "          # or Bababadalgharaghtakamminarronnkonn? \n",
    "\n",
    "word3='Supercalifragilisticexpialidocious'\n",
    "print(word3)\n",
    "word4='Honorificabilitudinitatibus'\n",
    "print(word4)\n",
    "word5='Bababadalgharaghtakamminarronnkonn'\n",
    "print(word5)\n",
    "if word3>word4:\n",
    "    if word3>word5:\n",
    "        print(word3, 'is the longest word')\n",
    "    else:\n",
    "        print(word4, 'is the longest word')      \n",
    "else:\n",
    "    if word4>word5:\n",
    "        print(word4, 'is the longest word')\n",
    "    else:\n",
    "        print(word5,'is the longest word')"
   ]
  },
  {
   "cell_type": "code",
   "execution_count": 292,
   "metadata": {},
   "outputs": [
    {
     "name": "stdout",
     "output_type": "stream",
     "text": [
      "['Bartok', 'Bellini', 'Berlioz', 'Bernstein', 'Borodin', 'Brian', 'Buxtehude']\n"
     ]
    }
   ],
   "source": [
    "# Part d: Which composer comes first in the dictionary: 'Berlioz', 'Borodin', 'Brian','Bartok', 'Bellini', 'Buxtehude', \n",
    "           # 'Bernstein'. Which one comes last?\n",
    "\n",
    "given=['Berlioz', 'Borodin', 'Brian', 'Bartok', 'Bellini', 'Buxtehude', 'Bernstein'] # given list\n",
    "length=len(given)  #computes the length of the list\n",
    "sort=[1]*7  # this list will be used later to store the composers in ascending order (a,b,c...z) \n",
    "count=0 # count variable will be used to as a index for sort named list.\n",
    "while count < 7: \n",
    "    first=given[0]\n",
    "    for number in range(1,length):\n",
    "        second=given[number]\n",
    "        if first>second:\n",
    "            first=second\n",
    "    given.remove(first)\n",
    "    length=len(given)\n",
    "    sort[count]=first\n",
    "    first=None\n",
    "    count+=1\n",
    "print(sort)"
   ]
  },
  {
   "cell_type": "markdown",
   "metadata": {},
   "source": [
    "# Question 3 "
   ]
  },
  {
   "cell_type": "code",
   "execution_count": 93,
   "metadata": {},
   "outputs": [],
   "source": [
    "#part a: Write a function inside(x,y,x1,y1,x2,y2) that returns True or False depending on whether the point (x,y) lies in the \n",
    "         # rectangle with lower left corner (x1,y1) and upper right corner (x2,y2).\n",
    "\n",
    "def inside(x,y,x1,y1,x2,y2):\n",
    "    print((x1<x<x2)&(y1<y<y2))"
   ]
  },
  {
   "cell_type": "code",
   "execution_count": 94,
   "metadata": {},
   "outputs": [
    {
     "name": "stdout",
     "output_type": "stream",
     "text": [
      "True\n"
     ]
    }
   ],
   "source": [
    "inside(1,1,0,0,2,3)"
   ]
  },
  {
   "cell_type": "code",
   "execution_count": 96,
   "metadata": {},
   "outputs": [
    {
     "name": "stdout",
     "output_type": "stream",
     "text": [
      "False\n"
     ]
    }
   ],
   "source": [
    "inside(-1,-1,0,0,2,3)"
   ]
  },
  {
   "cell_type": "code",
   "execution_count": 280,
   "metadata": {},
   "outputs": [],
   "source": [
    "#part b: Use function inside() from part a. to write an expression that tests whether the point (1,1) lies in both of the\n",
    "         # following rectangles: one with lower left corner (0.3, 0.5) and upper right corner (1.1, 0.7) and the other with \n",
    "         # lower left corner (0.5, 0.2) and upper right corner (1.1, 2). \n",
    "\n",
    "def inside(x,y,x1,y1,x2,y2,x3,y3,x4,y4):\n",
    "    print((x1<x<x2)&(x3<x<x4)&(y1<y<y2)&(y3<y<y4))"
   ]
  },
  {
   "cell_type": "code",
   "execution_count": 98,
   "metadata": {},
   "outputs": [
    {
     "name": "stdout",
     "output_type": "stream",
     "text": [
      "False\n"
     ]
    }
   ],
   "source": [
    "inside(1,1,0.3,0.5,1.1,0.7,0.5,0.2,1.1,2)"
   ]
  },
  {
   "cell_type": "markdown",
   "metadata": {},
   "source": [
    "# Question 4\n",
    "You can turn a word into pig-Latin using the following two rules (simplified):\n",
    "• If the word starts with a consonant, move that letter to the end and append\n",
    "'ay'. For example, 'happy' becomes 'appyhay' and 'pencil' becomes 'encilpay'.\n",
    "• If the word starts with a vowel, simply append 'way' to the end of the word.\n",
    "For example, 'enter' becomes 'enterway' and 'other' becomes 'otherway' . For\n",
    "our purposes, there are 5 vowels: a, e, i, o, u (so we count y as a consonant).\n",
    "Write a function pig() that takes a word (i.e., a string) as input and returns its pigLatin form. Your function should still work if the input word contains upper case\n",
    "characters. Your output should always be lower case however."
   ]
  },
  {
   "cell_type": "code",
   "execution_count": 121,
   "metadata": {},
   "outputs": [],
   "source": [
    "def pig(string): # function definition\n",
    "    vowel='aeiou' # it stores the vowels\n",
    "    if string[0].lower() in vowel: # it convert the entered string to lower case and comapres with volwels\n",
    "        print(string+\"way\")\n",
    "    else:\n",
    "        print(string[1:]+string[0]+'ay')"
   ]
  },
  {
   "cell_type": "code",
   "execution_count": 122,
   "metadata": {},
   "outputs": [
    {
     "name": "stdout",
     "output_type": "stream",
     "text": [
      "appyhay\n"
     ]
    }
   ],
   "source": [
    "pig('happy')"
   ]
  },
  {
   "cell_type": "code",
   "execution_count": 124,
   "metadata": {},
   "outputs": [
    {
     "name": "stdout",
     "output_type": "stream",
     "text": [
      "enterway\n"
     ]
    }
   ],
   "source": [
    "pig('enter')"
   ]
  },
  {
   "cell_type": "markdown",
   "metadata": {},
   "source": [
    "# Question 5\n",
    "File bloodtype1.txt records blood-types of patients (A, B, AB, O or OO) at a clinic.\n",
    "Write a function bldcount() that reads the file with name name and reports (i.e.,\n",
    "prints) how many patients there are in each bloodtype."
   ]
  },
  {
   "cell_type": "code",
   "execution_count": 144,
   "metadata": {},
   "outputs": [
    {
     "name": "stdout",
     "output_type": "stream",
     "text": [
      "There are 10 patients of blood type A.\n",
      "There are 1 patients of blood type B.\n",
      "There are 10 patients of blood type AB.\n",
      "There are 12 patients of blood type O.\n",
      "There are 0 patients of blood type OO.\n"
     ]
    }
   ],
   "source": [
    "bloodtype1=open(\"bloodtype1.txt\",'r') # the bloodtype1.txt file was uploaded to the jupyter notebook librray and then opened using open function in read mode.\n",
    "bloodcontent=bloodtype1.read() # it reads the content of the file\n",
    "groupa=bloodcontent.count(' A ') # it counts the appearance (frequency) of blood group A\n",
    "print('There are',groupa,'patients of blood type A.') # it displays the count of blood group A in a formatted manner\n",
    "groupb=bloodcontent.count(' B ')# it counts the appearance (frequency) of blood group B\n",
    "print('There are',groupb,'patients of blood type B.')# it displays the count of blood group B in a formatted manner\n",
    "groupab=bloodcontent.count(' AB ')# it counts the appearance (frequency) of blood group AB\n",
    "print('There are',groupab,'patients of blood type AB.')# it displays the count of blood group AB in a formatted manner\n",
    "groupo=bloodcontent.count(' O ')# it counts the appearance (frequency) of blood group O\n",
    "print('There are',groupo,'patients of blood type O.')# it displays the count of blood group O in a formatted manner\n",
    "groupOO=bloodcontent.count(' OO ')# it counts the appearance (frequency) of blood group OO\n",
    "print('There are',groupOO,'patients of blood type OO.')# it displays the count of blood group OO in a formatted manner"
   ]
  },
  {
   "cell_type": "markdown",
   "metadata": {},
   "source": [
    "# Question 6\n",
    "Write a function curconv() that takes as input:\n",
    "1. a currency represented using a string (e.g., 'JPY' for the Japanese Yen or\n",
    "'EUR' for the Euro)\n",
    "2. an amount\n",
    "and then converts and returns the amount in US dollars.\n"
   ]
  },
  {
   "cell_type": "code",
   "execution_count": 147,
   "metadata": {},
   "outputs": [],
   "source": [
    "def curconv(currency,amount): # elseif condition is used. It matched the currency string and determines the corresponding amount.\n",
    "    if currency == 'AUD':\n",
    "        print(amount*1.0345157)\n",
    "    elif currency == 'CHF':\n",
    "        print(amount*1.0237414)\n",
    "    elif currency == 'CNY':\n",
    "        print(amount*0.1550176)\n",
    "    elif currency == 'DKK':\n",
    "        print(amount*0.1651442)\n",
    "    elif currency == 'EUR':\n",
    "        print(amount*1.2296544)\n",
    "    elif currency == 'GBP':\n",
    "        print(amount*1.5550989)\n",
    "    elif currency == 'HKD':\n",
    "        print(amount*0.1270207)\n",
    "    elif currency == 'INR':\n",
    "        print(amount*0.0177643)\n",
    "    elif currency == 'JPY':\n",
    "        print(amount*0.01241401)\n",
    "    elif currency == 'MXN':\n",
    "        print(amount*0.0751848)\n",
    "    elif currency == 'MYR':\n",
    "        print(amount*0.3145411)\n",
    "    elif currency == 'NOK':\n",
    "        print(amount*0.1677063)\n",
    "    elif currency == 'NZD':\n",
    "        print(amount*0.8003591)\n",
    "    elif currency == 'PHP':\n",
    "        print(amount*0.0233234)\n",
    "    elif currency == 'SEK':\n",
    "        print(amount*0.148269)\n",
    "    elif currency == 'SGD':\n",
    "        print(amount*0.788871)\n",
    "    elif currency == 'THB':\n",
    "        print(amount*0.0313789)\n"
   ]
  },
  {
   "cell_type": "code",
   "execution_count": 148,
   "metadata": {},
   "outputs": [
    {
     "name": "stdout",
     "output_type": "stream",
     "text": [
      "122.96544\n"
     ]
    }
   ],
   "source": [
    "curconv('EUR', 100)"
   ]
  },
  {
   "cell_type": "code",
   "execution_count": 149,
   "metadata": {},
   "outputs": [
    {
     "name": "stdout",
     "output_type": "stream",
     "text": [
      "1.241401\n"
     ]
    }
   ],
   "source": [
    " curconv('JPY', 100)"
   ]
  },
  {
   "cell_type": "markdown",
   "metadata": {},
   "source": [
    "# Question 7\n",
    "Each of the following will cause an exception (an error). Identify what type of\n",
    "exception each will cause."
   ]
  },
  {
   "cell_type": "code",
   "execution_count": 179,
   "metadata": {},
   "outputs": [
    {
     "ename": "SyntaxError",
     "evalue": "invalid character in identifier (<ipython-input-179-5d92401daa02>, line 1)",
     "output_type": "error",
     "traceback": [
      "\u001b[1;36m  File \u001b[1;32m\"<ipython-input-179-5d92401daa02>\"\u001b[1;36m, line \u001b[1;32m1\u001b[0m\n\u001b[1;33m    6 + ‘a’\u001b[0m\n\u001b[1;37m          ^\u001b[0m\n\u001b[1;31mSyntaxError\u001b[0m\u001b[1;31m:\u001b[0m invalid character in identifier\n"
     ]
    }
   ],
   "source": [
    "#part a:\n",
    "\n",
    "6 + ‘a’"
   ]
  },
  {
   "cell_type": "code",
   "execution_count": 182,
   "metadata": {},
   "outputs": [
    {
     "ename": "IndexError",
     "evalue": "list index out of range",
     "output_type": "error",
     "traceback": [
      "\u001b[1;31m---------------------------------------------------------------------------\u001b[0m",
      "\u001b[1;31mIndexError\u001b[0m                                Traceback (most recent call last)",
      "\u001b[1;32m<ipython-input-182-4cad94515db9>\u001b[0m in \u001b[0;36m<module>\u001b[1;34m\u001b[0m\n\u001b[0;32m      2\u001b[0m \u001b[1;33m\u001b[0m\u001b[0m\n\u001b[0;32m      3\u001b[0m \u001b[0ma\u001b[0m\u001b[1;33m=\u001b[0m\u001b[1;33m[\u001b[0m\u001b[1;36m1\u001b[0m\u001b[1;33m,\u001b[0m \u001b[1;36m2\u001b[0m\u001b[1;33m,\u001b[0m \u001b[1;36m3\u001b[0m\u001b[1;33m,\u001b[0m \u001b[1;36m4\u001b[0m\u001b[1;33m,\u001b[0m \u001b[1;36m5\u001b[0m\u001b[1;33m,\u001b[0m \u001b[1;36m6\u001b[0m\u001b[1;33m,\u001b[0m \u001b[1;36m7\u001b[0m\u001b[1;33m,\u001b[0m \u001b[1;36m8\u001b[0m\u001b[1;33m,\u001b[0m \u001b[1;36m9\u001b[0m\u001b[1;33m,\u001b[0m \u001b[1;36m10\u001b[0m\u001b[1;33m]\u001b[0m\u001b[1;33m\u001b[0m\u001b[1;33m\u001b[0m\u001b[0m\n\u001b[1;32m----> 4\u001b[1;33m \u001b[0mprint\u001b[0m\u001b[1;33m(\u001b[0m\u001b[0ma\u001b[0m\u001b[1;33m[\u001b[0m\u001b[1;36m11\u001b[0m\u001b[1;33m]\u001b[0m\u001b[1;33m)\u001b[0m\u001b[1;33m\u001b[0m\u001b[1;33m\u001b[0m\u001b[0m\n\u001b[0m",
      "\u001b[1;31mIndexError\u001b[0m: list index out of range"
     ]
    }
   ],
   "source": [
    "# part b: Referring to the 12th item of a list that has only 10 items\n",
    "\n",
    "a=[1, 2, 3, 4, 5, 6, 7, 8, 9, 10]\n",
    "print(a[11])"
   ]
  },
  {
   "cell_type": "code",
   "execution_count": 183,
   "metadata": {},
   "outputs": [
    {
     "ename": "ValueError",
     "evalue": "math domain error",
     "output_type": "error",
     "traceback": [
      "\u001b[1;31m---------------------------------------------------------------------------\u001b[0m",
      "\u001b[1;31mValueError\u001b[0m                                Traceback (most recent call last)",
      "\u001b[1;32m<ipython-input-183-aad1180ad97d>\u001b[0m in \u001b[0;36m<module>\u001b[1;34m\u001b[0m\n\u001b[0;32m      1\u001b[0m \u001b[1;31m#Using a value that is out of range for a function’s input, such as calling\u001b[0m\u001b[1;33m\u001b[0m\u001b[1;33m\u001b[0m\u001b[1;33m\u001b[0m\u001b[0m\n\u001b[1;32m----> 2\u001b[1;33m \u001b[0mmath\u001b[0m\u001b[1;33m.\u001b[0m\u001b[0msqrt\u001b[0m\u001b[1;33m(\u001b[0m\u001b[1;33m-\u001b[0m\u001b[1;36m1.0\u001b[0m\u001b[1;33m)\u001b[0m\u001b[1;33m\u001b[0m\u001b[1;33m\u001b[0m\u001b[0m\n\u001b[0m",
      "\u001b[1;31mValueError\u001b[0m: math domain error"
     ]
    }
   ],
   "source": [
    "# part c: Using a value that is out of range for a function’s input, such as calling \n",
    "math.sqrt(-1.0)"
   ]
  },
  {
   "cell_type": "code",
   "execution_count": 184,
   "metadata": {},
   "outputs": [
    {
     "ename": "NameError",
     "evalue": "name 'x' is not defined",
     "output_type": "error",
     "traceback": [
      "\u001b[1;31m---------------------------------------------------------------------------\u001b[0m",
      "\u001b[1;31mNameError\u001b[0m                                 Traceback (most recent call last)",
      "\u001b[1;32m<ipython-input-184-1c37ed4ea817>\u001b[0m in \u001b[0;36m<module>\u001b[1;34m\u001b[0m\n\u001b[0;32m      3\u001b[0m \u001b[0mz\u001b[0m\u001b[1;33m=\u001b[0m\u001b[1;36m1\u001b[0m\u001b[1;33m\u001b[0m\u001b[1;33m\u001b[0m\u001b[0m\n\u001b[0;32m      4\u001b[0m \u001b[0ma\u001b[0m\u001b[1;33m=\u001b[0m\u001b[0my\u001b[0m\u001b[1;33m+\u001b[0m\u001b[0mz\u001b[0m\u001b[1;33m\u001b[0m\u001b[1;33m\u001b[0m\u001b[0m\n\u001b[1;32m----> 5\u001b[1;33m \u001b[0mprint\u001b[0m\u001b[1;33m(\u001b[0m\u001b[0mx\u001b[0m\u001b[1;33m)\u001b[0m\u001b[1;33m\u001b[0m\u001b[1;33m\u001b[0m\u001b[0m\n\u001b[0m",
      "\u001b[1;31mNameError\u001b[0m: name 'x' is not defined"
     ]
    }
   ],
   "source": [
    "# part d: Using an undeclared variable, such as print(x) when x has not been defined \n",
    "y=2\n",
    "z=1\n",
    "a=y+z\n",
    "print(x)"
   ]
  },
  {
   "cell_type": "code",
   "execution_count": 185,
   "metadata": {},
   "outputs": [
    {
     "ename": "FileNotFoundError",
     "evalue": "[Errno 2] No such file or directory: 'bloodtype.txt'",
     "output_type": "error",
     "traceback": [
      "\u001b[1;31m---------------------------------------------------------------------------\u001b[0m",
      "\u001b[1;31mFileNotFoundError\u001b[0m                         Traceback (most recent call last)",
      "\u001b[1;32m<ipython-input-185-1d6309b0bd44>\u001b[0m in \u001b[0;36m<module>\u001b[1;34m\u001b[0m\n\u001b[0;32m      1\u001b[0m \u001b[1;31m# Trying to open a file that does not exist, such as mistyping the file name or looking in the wrong directory.\u001b[0m\u001b[1;33m\u001b[0m\u001b[1;33m\u001b[0m\u001b[1;33m\u001b[0m\u001b[0m\n\u001b[1;32m----> 2\u001b[1;33m \u001b[0mopening\u001b[0m\u001b[1;33m=\u001b[0m\u001b[0mopen\u001b[0m\u001b[1;33m(\u001b[0m\u001b[1;34m\"bloodtype.txt\"\u001b[0m\u001b[1;33m,\u001b[0m\u001b[1;34m'r'\u001b[0m\u001b[1;33m)\u001b[0m\u001b[1;33m\u001b[0m\u001b[1;33m\u001b[0m\u001b[0m\n\u001b[0m",
      "\u001b[1;31mFileNotFoundError\u001b[0m: [Errno 2] No such file or directory: 'bloodtype.txt'"
     ]
    }
   ],
   "source": [
    "# part e: Trying to open a file that does not exist, such as mistyping the file name or looking in the wrong directory. \n",
    "opening=open(\"bloodtype.txt\",'r')"
   ]
  },
  {
   "cell_type": "markdown",
   "metadata": {},
   "source": [
    "# Question 8\n",
    "Encryption is the process of hiding the meaning of a text by substituting letters in the\n",
    "message with other letters, according to some system. If the process is successful, no\n",
    "one but the intended recipient can understand the encrypted message. Cryptanalysis\n",
    "refers to attempts to undo the encryption, even if some details of the encryption are\n",
    "unknown (for example, if an encrypted message has been intercepted). The first step\n",
    "of cryptanalysis is often to build up a table of letter frequencies in the encrypted text.\n",
    "Assume that the string letters is already defined as\n",
    "'abcdefghijklmnopqrstuvwxyz'. Write a function called frequencies()\n",
    "that takes a string as its only parameter, and returns a list of integers, showing the\n",
    "number of times each character appears in the text. Your function may ignore any\n",
    "characters that are not in letters. "
   ]
  },
  {
   "cell_type": "code",
   "execution_count": 175,
   "metadata": {},
   "outputs": [],
   "source": [
    "def frequencies(string):\n",
    "    lengthofstring=len(string) # to determine the length of the given string\n",
    "    frequencyofalphabet=[0]*26 # A random list is defined in which frequency of each of the alphabet will be stored.\n",
    "    alphabets=['a','b','c','d','e','f','g','h','i','j','k','l','m','n','o','p','q','r','s','t','u','v','w','x','y','z'] # list of alphabets\n",
    "    for loop1 in range(0,26): # this for loops picks the alphabet from 'alphabets' named list\n",
    "        count=0 # this variabel exmaines the frequency\n",
    "        alphabet=alphabets[loop1] # the picked alphabet from 'alphabets' is stored in variable alphabet\n",
    "        for loop2 in range(0,lengthofstring): # this for loop matched the picked alphabet with all the characters in the string and counts the frequency\n",
    "            if alphabet==string[loop2]:\n",
    "                count+=1\n",
    "        frequencyofalphabet[loop1]=count\n",
    "    return frequencyofalphabet # when all 26 alphabets are compared against the given string. This variable will display the fequencies."
   ]
  },
  {
   "cell_type": "code",
   "execution_count": 177,
   "metadata": {},
   "outputs": [
    {
     "data": {
      "text/plain": [
       "[1, 1, 1, 3, 5, 1, 1, 2, 1, 0, 1, 0, 1, 2, 4, 0, 1, 2, 0, 2, 1, 0, 1, 1, 0, 0]"
      ]
     },
     "execution_count": 177,
     "metadata": {},
     "output_type": "execute_result"
    }
   ],
   "source": [
    "frequencies('The quick red fox got bored and went home.')"
   ]
  },
  {
   "cell_type": "code",
   "execution_count": 178,
   "metadata": {},
   "outputs": [
    {
     "data": {
      "text/plain": [
       "[1, 0, 0, 0, 1, 0, 0, 0, 0, 0, 0, 1, 0, 0, 0, 2, 0, 0, 0, 0, 0, 0, 0, 0, 0, 0]"
      ]
     },
     "execution_count": 178,
     "metadata": {},
     "output_type": "execute_result"
    }
   ],
   "source": [
    "frequencies('apple')"
   ]
  },
  {
   "cell_type": "markdown",
   "metadata": {},
   "source": [
    "# Question 9\n",
    "The Sieve of Erastophenes is an algorithm -- known to ancient Greeks -- that finds\n",
    "all prime numbers up to a given number n. It does this by first creating a list L from\n",
    "2 to n and an (initially empty) list primeL. The algorithm then takes the first number\n",
    "in list L (2) and appends it to list primeL, and then removes 2 and all its multiples\n",
    "(4,6,8,10,12, ...) from L. The algorithm then takes the new first number in L (3) and\n",
    "appends it to list primeL, and then removes from L 3 and all its remaining multiples\n",
    "(9,15,21,...). So, in every iteration, the first number of list L is appended to list\n",
    "primeL and then it and its multiples are removed from list L. The iterations stop\n",
    "when list L becomes empty. Write a function sieve() that takes as input a positive\n",
    "integer n, implements the above algorithm, and returns a list of all prime numbers up\n",
    "to n."
   ]
  },
  {
   "cell_type": "code",
   "execution_count": 255,
   "metadata": {},
   "outputs": [],
   "source": [
    "def sieve(number):\n",
    "    odd=[2] # predefined list of odd number in which 2 is the first element. The list of odd number's will be stored in this list.\n",
    "    if number<2: # this conditions ensures that the entered number is positive and greater than 2. It is applied because 2 is already stored in the predefined list named odd.\n",
    "        print('Error : Input number must be greater than 2..!!')\n",
    "    else:\n",
    "        mylist=list(range(2,number+1)) # to prepare a list of total numbers from 2 to entered number\n",
    "        lengthofmylist=len(mylist) # determined the total numbers from 2 to entered number\n",
    "        for loop1 in range(1,lengthofmylist): #this for loop picks the number from the total numbers\n",
    "            testednumber=mylist[loop1]  # picked number is stored in testednumber variable\n",
    "            count=0\n",
    "            for loop2 in range(0, loop1): # this for loop checks if the number is odd\n",
    "                if testednumber%mylist[loop2]!=0:\n",
    "                    count+=1\n",
    "            if (count-1)==loop2: # if the number is odd, it'll be appended to odd named list using following\n",
    "                odd.append(mylist[loop1])\n",
    "    print(odd) # when all the odd numbers are rectified, they will be displayed "
   ]
  },
  {
   "cell_type": "code",
   "execution_count": 256,
   "metadata": {},
   "outputs": [
    {
     "name": "stdout",
     "output_type": "stream",
     "text": [
      "[2, 3, 5, 7, 11, 13, 17, 19, 23, 29, 31, 37, 41, 43, 47, 53]\n"
     ]
    }
   ],
   "source": [
    "sieve(56)"
   ]
  },
  {
   "cell_type": "code",
   "execution_count": 257,
   "metadata": {},
   "outputs": [
    {
     "name": "stdout",
     "output_type": "stream",
     "text": [
      "[2, 3, 5, 7, 11, 13, 17, 19, 23, 29, 31]\n"
     ]
    }
   ],
   "source": [
    "sieve(32)"
   ]
  },
  {
   "cell_type": "code",
   "execution_count": 258,
   "metadata": {},
   "outputs": [
    {
     "name": "stdout",
     "output_type": "stream",
     "text": [
      "[2, 3, 5, 7, 11, 13, 17, 19, 23, 29, 31, 37, 41, 43, 47, 53, 59, 61, 67, 71, 73, 79, 83, 89, 97, 101, 103, 107, 109, 113, 127, 131, 137, 139, 149, 151, 157, 163, 167, 173, 179, 181, 191, 193, 197, 199, 211, 223, 227, 229, 233, 239, 241, 251, 257, 263, 269, 271, 277, 281, 283, 293, 307, 311, 313, 317, 331, 337, 347, 349, 353, 359, 367]\n"
     ]
    }
   ],
   "source": [
    "sieve(368)"
   ]
  },
  {
   "cell_type": "markdown",
   "metadata": {},
   "source": [
    "# Question 10\n",
    "Implement function triangleArea(a,b,c) that takes as input the lengths of the 3\n",
    "sides of a triangle and returns the area of the triangle. By Heron's formula, the area\n",
    "of a triangle with side lengths a, b, and c is\n",
    "s(s - a)(s -b)(s -c)\n",
    ", where\n",
    "s = (a+b+c)/2. "
   ]
  },
  {
   "cell_type": "code",
   "execution_count": 263,
   "metadata": {},
   "outputs": [],
   "source": [
    "def triangleArea(a,b,c):\n",
    "    s=(a+b+c)/2 #formula of s\n",
    "    area=math.sqrt(s*(s-a)*(s-b)*(s-c)) # formula for area of triangle. math.sqrt() means sqrt() function is imported from math function/directory.\n",
    "    print('Area of a triangle is',area) # prints the area of a triangle in formatted manner."
   ]
  },
  {
   "cell_type": "code",
   "execution_count": 264,
   "metadata": {},
   "outputs": [
    {
     "name": "stdout",
     "output_type": "stream",
     "text": [
      "Area of a triangle is 1.7320508075688772\n"
     ]
    }
   ],
   "source": [
    "triangleArea(2,2,2)"
   ]
  },
  {
   "cell_type": "code",
   "execution_count": null,
   "metadata": {},
   "outputs": [],
   "source": []
  }
 ],
 "metadata": {
  "kernelspec": {
   "display_name": "Python 3",
   "language": "python",
   "name": "python3"
  },
  "language_info": {
   "codemirror_mode": {
    "name": "ipython",
    "version": 3
   },
   "file_extension": ".py",
   "mimetype": "text/x-python",
   "name": "python",
   "nbconvert_exporter": "python",
   "pygments_lexer": "ipython3",
   "version": "3.8.3"
  }
 },
 "nbformat": 4,
 "nbformat_minor": 4
}
